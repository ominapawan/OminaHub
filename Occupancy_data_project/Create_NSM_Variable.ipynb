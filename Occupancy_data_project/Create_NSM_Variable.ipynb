{
 "cells": [
  {
   "cell_type": "code",
   "execution_count": null,
   "metadata": {},
   "outputs": [],
   "source": [
    "!pip install gcsfs"
   ]
  },
  {
   "cell_type": "code",
   "execution_count": 92,
   "metadata": {},
   "outputs": [],
   "source": [
    "import pandas as pd\n",
    "import gcsfs\n",
    "import matplotlib.pyplot as plt\n",
    "import seaborn as sns\n",
    "import numpy as np\n",
    "import scipy.stats as stats\n",
    "from sklearn.model_selection import TimeSeriesSplit\n",
    "from sklearn.linear_model import LogisticRegression\n",
    "from sklearn.naive_bayes import GaussianNB\n",
    "from sklearn.svm import SVC\n",
    "from sklearn.metrics import classification_report\n",
    "from sklearn.metrics import confusion_matrix\n",
    "from sklearn.ensemble import RandomForestClassifier\n",
    "from sklearn.model_selection import cross_val_score\n",
    "import itertools"
   ]
  },
  {
   "cell_type": "markdown",
   "metadata": {},
   "source": [
    "Reading the data files from the google cloud storage"
   ]
  },
  {
   "cell_type": "code",
   "execution_count": 93,
   "metadata": {},
   "outputs": [],
   "source": [
    "fs = gcsfs.GCSFileSystem(project='omina-gcp-resource')\n",
    "with fs.open('omina-test-set/occupancy-data/occupancy_data.csv') as f:\n",
    "    df = pd.read_csv(f)"
   ]
  },
  {
   "cell_type": "markdown",
   "metadata": {},
   "source": [
    "Changing the date variable to python datetime variable"
   ]
  },
  {
   "cell_type": "code",
   "execution_count": 94,
   "metadata": {},
   "outputs": [],
   "source": [
    "df['date'] = pd.to_datetime(df['date'])\n",
    "df.index = df['date']\n",
    "del df['Unnamed: 0']"
   ]
  },
  {
   "cell_type": "markdown",
   "metadata": {},
   "source": [
    "Sorting the dataframe by date"
   ]
  },
  {
   "cell_type": "code",
   "execution_count": 95,
   "metadata": {},
   "outputs": [],
   "source": [
    "df = df.sort_values(by='date')"
   ]
  },
  {
   "cell_type": "markdown",
   "metadata": {},
   "source": [
    "Creating the NSM variavle and WS variable [NSM stands for Number of seconds since midnight for each day and WS stands for week day (1) or weekend (0)]"
   ]
  },
  {
   "cell_type": "code",
   "execution_count": 96,
   "metadata": {},
   "outputs": [
    {
     "data": {
      "text/html": [
       "<div>\n",
       "<style scoped>\n",
       "    .dataframe tbody tr th:only-of-type {\n",
       "        vertical-align: middle;\n",
       "    }\n",
       "\n",
       "    .dataframe tbody tr th {\n",
       "        vertical-align: top;\n",
       "    }\n",
       "\n",
       "    .dataframe thead th {\n",
       "        text-align: right;\n",
       "    }\n",
       "</style>\n",
       "<table border=\"1\" class=\"dataframe\">\n",
       "  <thead>\n",
       "    <tr style=\"text-align: right;\">\n",
       "      <th></th>\n",
       "      <th>Temperature</th>\n",
       "      <th>Humidity</th>\n",
       "      <th>Light</th>\n",
       "      <th>CO2</th>\n",
       "      <th>HumidityRatio</th>\n",
       "      <th>Occupancy</th>\n",
       "      <th>NSM</th>\n",
       "      <th>WS</th>\n",
       "    </tr>\n",
       "    <tr>\n",
       "      <th>date</th>\n",
       "      <th></th>\n",
       "      <th></th>\n",
       "      <th></th>\n",
       "      <th></th>\n",
       "      <th></th>\n",
       "      <th></th>\n",
       "      <th></th>\n",
       "      <th></th>\n",
       "    </tr>\n",
       "  </thead>\n",
       "  <tbody>\n",
       "    <tr>\n",
       "      <th>2015-02-02 14:19:00</th>\n",
       "      <td>23.7000</td>\n",
       "      <td>26.272</td>\n",
       "      <td>585.200000</td>\n",
       "      <td>749.200000</td>\n",
       "      <td>0.004764</td>\n",
       "      <td>1</td>\n",
       "      <td>51540.0</td>\n",
       "      <td>1</td>\n",
       "    </tr>\n",
       "    <tr>\n",
       "      <th>2015-02-02 14:19:59</th>\n",
       "      <td>23.7180</td>\n",
       "      <td>26.290</td>\n",
       "      <td>578.400000</td>\n",
       "      <td>760.400000</td>\n",
       "      <td>0.004773</td>\n",
       "      <td>1</td>\n",
       "      <td>51599.0</td>\n",
       "      <td>1</td>\n",
       "    </tr>\n",
       "    <tr>\n",
       "      <th>2015-02-02 14:21:00</th>\n",
       "      <td>23.7300</td>\n",
       "      <td>26.230</td>\n",
       "      <td>572.666667</td>\n",
       "      <td>769.666667</td>\n",
       "      <td>0.004765</td>\n",
       "      <td>1</td>\n",
       "      <td>51660.0</td>\n",
       "      <td>1</td>\n",
       "    </tr>\n",
       "    <tr>\n",
       "      <th>2015-02-02 14:22:00</th>\n",
       "      <td>23.7225</td>\n",
       "      <td>26.125</td>\n",
       "      <td>493.750000</td>\n",
       "      <td>774.750000</td>\n",
       "      <td>0.004744</td>\n",
       "      <td>1</td>\n",
       "      <td>51720.0</td>\n",
       "      <td>1</td>\n",
       "    </tr>\n",
       "    <tr>\n",
       "      <th>2015-02-02 14:23:00</th>\n",
       "      <td>23.7540</td>\n",
       "      <td>26.200</td>\n",
       "      <td>488.600000</td>\n",
       "      <td>779.000000</td>\n",
       "      <td>0.004767</td>\n",
       "      <td>1</td>\n",
       "      <td>51780.0</td>\n",
       "      <td>1</td>\n",
       "    </tr>\n",
       "  </tbody>\n",
       "</table>\n",
       "</div>"
      ],
      "text/plain": [
       "                     Temperature  Humidity       Light         CO2  \\\n",
       "date                                                                 \n",
       "2015-02-02 14:19:00      23.7000    26.272  585.200000  749.200000   \n",
       "2015-02-02 14:19:59      23.7180    26.290  578.400000  760.400000   \n",
       "2015-02-02 14:21:00      23.7300    26.230  572.666667  769.666667   \n",
       "2015-02-02 14:22:00      23.7225    26.125  493.750000  774.750000   \n",
       "2015-02-02 14:23:00      23.7540    26.200  488.600000  779.000000   \n",
       "\n",
       "                     HumidityRatio  Occupancy      NSM  WS  \n",
       "date                                                        \n",
       "2015-02-02 14:19:00       0.004764          1  51540.0   1  \n",
       "2015-02-02 14:19:59       0.004773          1  51599.0   1  \n",
       "2015-02-02 14:21:00       0.004765          1  51660.0   1  \n",
       "2015-02-02 14:22:00       0.004744          1  51720.0   1  \n",
       "2015-02-02 14:23:00       0.004767          1  51780.0   1  "
      ]
     },
     "execution_count": 96,
     "metadata": {},
     "output_type": "execute_result"
    }
   ],
   "source": [
    "df_group = df.groupby(pd.Grouper(key = 'date', freq = 'D'))\n",
    "df['NSM'] = df.date.apply(lambda x: x - x.replace(hour=0, minute=0, second=0)).dt.total_seconds()\n",
    "df['WS'] = ((pd.DatetimeIndex(df.index).dayofweek) < 5).astype(int)\n",
    "del df['date']\n",
    "df.head()"
   ]
  },
  {
   "cell_type": "markdown",
   "metadata": {},
   "source": [
    "Generating the correlation table considering the entire data samples"
   ]
  },
  {
   "cell_type": "code",
   "execution_count": 97,
   "metadata": {},
   "outputs": [
    {
     "data": {
      "text/html": [
       "<div>\n",
       "<style scoped>\n",
       "    .dataframe tbody tr th:only-of-type {\n",
       "        vertical-align: middle;\n",
       "    }\n",
       "\n",
       "    .dataframe tbody tr th {\n",
       "        vertical-align: top;\n",
       "    }\n",
       "\n",
       "    .dataframe thead th {\n",
       "        text-align: right;\n",
       "    }\n",
       "</style>\n",
       "<table border=\"1\" class=\"dataframe\">\n",
       "  <thead>\n",
       "    <tr style=\"text-align: right;\">\n",
       "      <th></th>\n",
       "      <th>Temperature</th>\n",
       "      <th>Humidity</th>\n",
       "      <th>Light</th>\n",
       "      <th>CO2</th>\n",
       "      <th>HumidityRatio</th>\n",
       "      <th>Occupancy</th>\n",
       "      <th>NSM</th>\n",
       "      <th>WS</th>\n",
       "    </tr>\n",
       "  </thead>\n",
       "  <tbody>\n",
       "    <tr>\n",
       "      <th>Temperature</th>\n",
       "      <td>1.000000</td>\n",
       "      <td>-0.156964</td>\n",
       "      <td>0.688571</td>\n",
       "      <td>0.449989</td>\n",
       "      <td>0.205280</td>\n",
       "      <td>0.555610</td>\n",
       "      <td>0.235422</td>\n",
       "      <td>0.412400</td>\n",
       "    </tr>\n",
       "    <tr>\n",
       "      <th>Humidity</th>\n",
       "      <td>-0.156964</td>\n",
       "      <td>1.000000</td>\n",
       "      <td>-0.029459</td>\n",
       "      <td>0.299746</td>\n",
       "      <td>0.932724</td>\n",
       "      <td>0.046240</td>\n",
       "      <td>0.114961</td>\n",
       "      <td>-0.215841</td>\n",
       "    </tr>\n",
       "    <tr>\n",
       "      <th>Light</th>\n",
       "      <td>0.688571</td>\n",
       "      <td>-0.029459</td>\n",
       "      <td>1.000000</td>\n",
       "      <td>0.448105</td>\n",
       "      <td>0.223329</td>\n",
       "      <td>0.914850</td>\n",
       "      <td>0.095023</td>\n",
       "      <td>0.267150</td>\n",
       "    </tr>\n",
       "    <tr>\n",
       "      <th>CO2</th>\n",
       "      <td>0.449989</td>\n",
       "      <td>0.299746</td>\n",
       "      <td>0.448105</td>\n",
       "      <td>1.000000</td>\n",
       "      <td>0.477965</td>\n",
       "      <td>0.501582</td>\n",
       "      <td>0.127287</td>\n",
       "      <td>0.372715</td>\n",
       "    </tr>\n",
       "    <tr>\n",
       "      <th>HumidityRatio</th>\n",
       "      <td>0.205280</td>\n",
       "      <td>0.932724</td>\n",
       "      <td>0.223329</td>\n",
       "      <td>0.477965</td>\n",
       "      <td>1.000000</td>\n",
       "      <td>0.257324</td>\n",
       "      <td>0.201703</td>\n",
       "      <td>-0.051735</td>\n",
       "    </tr>\n",
       "    <tr>\n",
       "      <th>Occupancy</th>\n",
       "      <td>0.555610</td>\n",
       "      <td>0.046240</td>\n",
       "      <td>0.914850</td>\n",
       "      <td>0.501582</td>\n",
       "      <td>0.257324</td>\n",
       "      <td>1.000000</td>\n",
       "      <td>0.103522</td>\n",
       "      <td>0.341949</td>\n",
       "    </tr>\n",
       "    <tr>\n",
       "      <th>NSM</th>\n",
       "      <td>0.235422</td>\n",
       "      <td>0.114961</td>\n",
       "      <td>0.095023</td>\n",
       "      <td>0.127287</td>\n",
       "      <td>0.201703</td>\n",
       "      <td>0.103522</td>\n",
       "      <td>1.000000</td>\n",
       "      <td>-0.004215</td>\n",
       "    </tr>\n",
       "  </tbody>\n",
       "</table>\n",
       "</div>"
      ],
      "text/plain": [
       "               Temperature  Humidity     Light       CO2  HumidityRatio  \\\n",
       "Temperature       1.000000 -0.156964  0.688571  0.449989       0.205280   \n",
       "Humidity         -0.156964  1.000000 -0.029459  0.299746       0.932724   \n",
       "Light             0.688571 -0.029459  1.000000  0.448105       0.223329   \n",
       "CO2               0.449989  0.299746  0.448105  1.000000       0.477965   \n",
       "HumidityRatio     0.205280  0.932724  0.223329  0.477965       1.000000   \n",
       "Occupancy         0.555610  0.046240  0.914850  0.501582       0.257324   \n",
       "NSM               0.235422  0.114961  0.095023  0.127287       0.201703   \n",
       "\n",
       "               Occupancy       NSM        WS  \n",
       "Temperature     0.555610  0.235422  0.412400  \n",
       "Humidity        0.046240  0.114961 -0.215841  \n",
       "Light           0.914850  0.095023  0.267150  \n",
       "CO2             0.501582  0.127287  0.372715  \n",
       "HumidityRatio   0.257324  0.201703 -0.051735  \n",
       "Occupancy       1.000000  0.103522  0.341949  \n",
       "NSM             0.103522  1.000000 -0.004215  "
      ]
     },
     "execution_count": 97,
     "metadata": {},
     "output_type": "execute_result"
    }
   ],
   "source": [
    "df_corr =df.corr()\n",
    "df_corr.head(7)"
   ]
  },
  {
   "cell_type": "code",
   "execution_count": 98,
   "metadata": {},
   "outputs": [],
   "source": [
    "def corrcoef_loop(df): # a function to calculate the associated p-values of correlation\n",
    "    cols = df.shape[1]\n",
    "    p = np.zeros(shape=(cols, cols))\n",
    "    for i in range(cols):\n",
    "        for j in range(i+1, cols):\n",
    "            r, p_values = stats.pearsonr(df.iloc[:, i], df.iloc[:, j])\n",
    "            p[i, j] = p[j, i] = p_values\n",
    "    return p"
   ]
  },
  {
   "cell_type": "markdown",
   "metadata": {},
   "source": [
    "Calculate p-values"
   ]
  },
  {
   "cell_type": "code",
   "execution_count": 99,
   "metadata": {},
   "outputs": [
    {
     "data": {
      "text/html": [
       "<div>\n",
       "<style scoped>\n",
       "    .dataframe tbody tr th:only-of-type {\n",
       "        vertical-align: middle;\n",
       "    }\n",
       "\n",
       "    .dataframe tbody tr th {\n",
       "        vertical-align: top;\n",
       "    }\n",
       "\n",
       "    .dataframe thead th {\n",
       "        text-align: right;\n",
       "    }\n",
       "</style>\n",
       "<table border=\"1\" class=\"dataframe\">\n",
       "  <thead>\n",
       "    <tr style=\"text-align: right;\">\n",
       "      <th></th>\n",
       "      <th>Temperature</th>\n",
       "      <th>Humidity</th>\n",
       "      <th>Light</th>\n",
       "      <th>CO2</th>\n",
       "      <th>HumidityRatio</th>\n",
       "      <th>NSM</th>\n",
       "      <th>WS</th>\n",
       "    </tr>\n",
       "  </thead>\n",
       "  <tbody>\n",
       "    <tr>\n",
       "      <th>Temperature</th>\n",
       "      <td>0.000000e+00</td>\n",
       "      <td>1.536382e-113</td>\n",
       "      <td>0.000000e+00</td>\n",
       "      <td>0.000000e+00</td>\n",
       "      <td>1.728531e-194</td>\n",
       "      <td>6.865398e-257</td>\n",
       "      <td>0.000000e+00</td>\n",
       "    </tr>\n",
       "    <tr>\n",
       "      <th>Humidity</th>\n",
       "      <td>1.536382e-113</td>\n",
       "      <td>0.000000e+00</td>\n",
       "      <td>2.392676e-05</td>\n",
       "      <td>0.000000e+00</td>\n",
       "      <td>0.000000e+00</td>\n",
       "      <td>1.957769e-61</td>\n",
       "      <td>2.745444e-215</td>\n",
       "    </tr>\n",
       "    <tr>\n",
       "      <th>Light</th>\n",
       "      <td>0.000000e+00</td>\n",
       "      <td>2.392676e-05</td>\n",
       "      <td>0.000000e+00</td>\n",
       "      <td>0.000000e+00</td>\n",
       "      <td>1.002775e-230</td>\n",
       "      <td>1.881377e-42</td>\n",
       "      <td>0.000000e+00</td>\n",
       "    </tr>\n",
       "    <tr>\n",
       "      <th>CO2</th>\n",
       "      <td>0.000000e+00</td>\n",
       "      <td>0.000000e+00</td>\n",
       "      <td>0.000000e+00</td>\n",
       "      <td>0.000000e+00</td>\n",
       "      <td>0.000000e+00</td>\n",
       "      <td>5.239133e-75</td>\n",
       "      <td>0.000000e+00</td>\n",
       "    </tr>\n",
       "    <tr>\n",
       "      <th>HumidityRatio</th>\n",
       "      <td>1.728531e-194</td>\n",
       "      <td>0.000000e+00</td>\n",
       "      <td>1.002775e-230</td>\n",
       "      <td>0.000000e+00</td>\n",
       "      <td>0.000000e+00</td>\n",
       "      <td>1.058240e-187</td>\n",
       "      <td>1.147644e-13</td>\n",
       "    </tr>\n",
       "    <tr>\n",
       "      <th>NSM</th>\n",
       "      <td>6.865398e-257</td>\n",
       "      <td>1.957769e-61</td>\n",
       "      <td>1.881377e-42</td>\n",
       "      <td>5.239133e-75</td>\n",
       "      <td>1.058240e-187</td>\n",
       "      <td>0.000000e+00</td>\n",
       "      <td>5.456448e-01</td>\n",
       "    </tr>\n",
       "    <tr>\n",
       "      <th>WS</th>\n",
       "      <td>0.000000e+00</td>\n",
       "      <td>2.745444e-215</td>\n",
       "      <td>0.000000e+00</td>\n",
       "      <td>0.000000e+00</td>\n",
       "      <td>1.147644e-13</td>\n",
       "      <td>5.456448e-01</td>\n",
       "      <td>0.000000e+00</td>\n",
       "    </tr>\n",
       "  </tbody>\n",
       "</table>\n",
       "</div>"
      ],
      "text/plain": [
       "                 Temperature       Humidity          Light           CO2  \\\n",
       "Temperature     0.000000e+00  1.536382e-113   0.000000e+00  0.000000e+00   \n",
       "Humidity       1.536382e-113   0.000000e+00   2.392676e-05  0.000000e+00   \n",
       "Light           0.000000e+00   2.392676e-05   0.000000e+00  0.000000e+00   \n",
       "CO2             0.000000e+00   0.000000e+00   0.000000e+00  0.000000e+00   \n",
       "HumidityRatio  1.728531e-194   0.000000e+00  1.002775e-230  0.000000e+00   \n",
       "NSM            6.865398e-257   1.957769e-61   1.881377e-42  5.239133e-75   \n",
       "WS              0.000000e+00  2.745444e-215   0.000000e+00  0.000000e+00   \n",
       "\n",
       "               HumidityRatio            NSM             WS  \n",
       "Temperature    1.728531e-194  6.865398e-257   0.000000e+00  \n",
       "Humidity        0.000000e+00   1.957769e-61  2.745444e-215  \n",
       "Light          1.002775e-230   1.881377e-42   0.000000e+00  \n",
       "CO2             0.000000e+00   5.239133e-75   0.000000e+00  \n",
       "HumidityRatio   0.000000e+00  1.058240e-187   1.147644e-13  \n",
       "NSM            1.058240e-187   0.000000e+00   5.456448e-01  \n",
       "WS              1.147644e-13   5.456448e-01   0.000000e+00  "
      ]
     },
     "execution_count": 99,
     "metadata": {},
     "output_type": "execute_result"
    }
   ],
   "source": [
    "df1 = df[['Temperature', 'Humidity', 'Light', 'CO2', 'HumidityRatio', 'NSM', 'WS']]\n",
    "df_pval = pd.DataFrame(corrcoef_loop(df1), columns = df1.columns, index = df1.columns)\n",
    "df_pval.head(7)"
   ]
  },
  {
   "cell_type": "markdown",
   "metadata": {},
   "source": [
    "Generating training and testing data set based on timeseries splitting"
   ]
  },
  {
   "cell_type": "code",
   "execution_count": 100,
   "metadata": {},
   "outputs": [],
   "source": [
    "df_train = df['2015-02-04 17:51:00' : '2015-02-10 09:33:00']"
   ]
  },
  {
   "cell_type": "code",
   "execution_count": 101,
   "metadata": {},
   "outputs": [],
   "source": [
    "df_test = df['2015-02-02 14:19:00' : '2015-02-04 10:43:00']"
   ]
  },
  {
   "cell_type": "code",
   "execution_count": 102,
   "metadata": {},
   "outputs": [],
   "source": [
    "df_test1 = df['2015-02-11 14:48:00' : '2015-02-18 09:19:00']"
   ]
  },
  {
   "cell_type": "markdown",
   "metadata": {},
   "source": [
    "Plotting correlations for training dataset"
   ]
  },
  {
   "cell_type": "code",
   "execution_count": 105,
   "metadata": {},
   "outputs": [
    {
     "data": {
      "text/html": [
       "<div>\n",
       "<style scoped>\n",
       "    .dataframe tbody tr th:only-of-type {\n",
       "        vertical-align: middle;\n",
       "    }\n",
       "\n",
       "    .dataframe tbody tr th {\n",
       "        vertical-align: top;\n",
       "    }\n",
       "\n",
       "    .dataframe thead th {\n",
       "        text-align: right;\n",
       "    }\n",
       "</style>\n",
       "<table border=\"1\" class=\"dataframe\">\n",
       "  <thead>\n",
       "    <tr style=\"text-align: right;\">\n",
       "      <th></th>\n",
       "      <th>Temperature</th>\n",
       "      <th>Humidity</th>\n",
       "      <th>Light</th>\n",
       "      <th>CO2</th>\n",
       "      <th>HumidityRatio</th>\n",
       "      <th>NSM</th>\n",
       "      <th>WS</th>\n",
       "    </tr>\n",
       "  </thead>\n",
       "  <tbody>\n",
       "    <tr>\n",
       "      <th>Temperature</th>\n",
       "      <td>1.000000</td>\n",
       "      <td>-0.141759</td>\n",
       "      <td>0.649942</td>\n",
       "      <td>0.559894</td>\n",
       "      <td>0.151762</td>\n",
       "      <td>0.259958</td>\n",
       "      <td>0.418657</td>\n",
       "    </tr>\n",
       "    <tr>\n",
       "      <th>Humidity</th>\n",
       "      <td>-0.141759</td>\n",
       "      <td>1.000000</td>\n",
       "      <td>0.037828</td>\n",
       "      <td>0.439023</td>\n",
       "      <td>0.955198</td>\n",
       "      <td>0.016974</td>\n",
       "      <td>0.108551</td>\n",
       "    </tr>\n",
       "    <tr>\n",
       "      <th>Light</th>\n",
       "      <td>0.649942</td>\n",
       "      <td>0.037828</td>\n",
       "      <td>1.000000</td>\n",
       "      <td>0.664022</td>\n",
       "      <td>0.230420</td>\n",
       "      <td>0.085417</td>\n",
       "      <td>0.279519</td>\n",
       "    </tr>\n",
       "    <tr>\n",
       "      <th>CO2</th>\n",
       "      <td>0.559894</td>\n",
       "      <td>0.439023</td>\n",
       "      <td>0.664022</td>\n",
       "      <td>1.000000</td>\n",
       "      <td>0.626556</td>\n",
       "      <td>0.209348</td>\n",
       "      <td>0.394834</td>\n",
       "    </tr>\n",
       "    <tr>\n",
       "      <th>HumidityRatio</th>\n",
       "      <td>0.151762</td>\n",
       "      <td>0.955198</td>\n",
       "      <td>0.230420</td>\n",
       "      <td>0.626556</td>\n",
       "      <td>1.000000</td>\n",
       "      <td>0.095987</td>\n",
       "      <td>0.243146</td>\n",
       "    </tr>\n",
       "    <tr>\n",
       "      <th>NSM</th>\n",
       "      <td>0.259958</td>\n",
       "      <td>0.016974</td>\n",
       "      <td>0.085417</td>\n",
       "      <td>0.209348</td>\n",
       "      <td>0.095987</td>\n",
       "      <td>1.000000</td>\n",
       "      <td>-0.010865</td>\n",
       "    </tr>\n",
       "    <tr>\n",
       "      <th>WS</th>\n",
       "      <td>0.418657</td>\n",
       "      <td>0.108551</td>\n",
       "      <td>0.279519</td>\n",
       "      <td>0.394834</td>\n",
       "      <td>0.243146</td>\n",
       "      <td>-0.010865</td>\n",
       "      <td>1.000000</td>\n",
       "    </tr>\n",
       "  </tbody>\n",
       "</table>\n",
       "</div>"
      ],
      "text/plain": [
       "               Temperature  Humidity     Light       CO2  HumidityRatio  \\\n",
       "Temperature       1.000000 -0.141759  0.649942  0.559894       0.151762   \n",
       "Humidity         -0.141759  1.000000  0.037828  0.439023       0.955198   \n",
       "Light             0.649942  0.037828  1.000000  0.664022       0.230420   \n",
       "CO2               0.559894  0.439023  0.664022  1.000000       0.626556   \n",
       "HumidityRatio     0.151762  0.955198  0.230420  0.626556       1.000000   \n",
       "NSM               0.259958  0.016974  0.085417  0.209348       0.095987   \n",
       "WS                0.418657  0.108551  0.279519  0.394834       0.243146   \n",
       "\n",
       "                    NSM        WS  \n",
       "Temperature    0.259958  0.418657  \n",
       "Humidity       0.016974  0.108551  \n",
       "Light          0.085417  0.279519  \n",
       "CO2            0.209348  0.394834  \n",
       "HumidityRatio  0.095987  0.243146  \n",
       "NSM            1.000000 -0.010865  \n",
       "WS            -0.010865  1.000000  "
      ]
     },
     "execution_count": 105,
     "metadata": {},
     "output_type": "execute_result"
    }
   ],
   "source": [
    "df1 = df_train[['Temperature', 'Humidity', 'Light', 'CO2', 'HumidityRatio', 'NSM', 'WS']]\n",
    "df_train_corr =df1.corr()\n",
    "df_train_corr.head(7)"
   ]
  },
  {
   "cell_type": "markdown",
   "metadata": {},
   "source": [
    "Calculating p-values for training dataset"
   ]
  },
  {
   "cell_type": "code",
   "execution_count": 106,
   "metadata": {},
   "outputs": [
    {
     "data": {
      "text/html": [
       "<div>\n",
       "<style scoped>\n",
       "    .dataframe tbody tr th:only-of-type {\n",
       "        vertical-align: middle;\n",
       "    }\n",
       "\n",
       "    .dataframe tbody tr th {\n",
       "        vertical-align: top;\n",
       "    }\n",
       "\n",
       "    .dataframe thead th {\n",
       "        text-align: right;\n",
       "    }\n",
       "</style>\n",
       "<table border=\"1\" class=\"dataframe\">\n",
       "  <thead>\n",
       "    <tr style=\"text-align: right;\">\n",
       "      <th></th>\n",
       "      <th>Temperature</th>\n",
       "      <th>Humidity</th>\n",
       "      <th>Light</th>\n",
       "      <th>CO2</th>\n",
       "      <th>HumidityRatio</th>\n",
       "      <th>NSM</th>\n",
       "      <th>WS</th>\n",
       "    </tr>\n",
       "  </thead>\n",
       "  <tbody>\n",
       "    <tr>\n",
       "      <th>Temperature</th>\n",
       "      <td>0.000000e+00</td>\n",
       "      <td>8.045844e-38</td>\n",
       "      <td>0.000000e+00</td>\n",
       "      <td>0.000000e+00</td>\n",
       "      <td>3.731142e-43</td>\n",
       "      <td>6.898404e-126</td>\n",
       "      <td>0.000000e+00</td>\n",
       "    </tr>\n",
       "    <tr>\n",
       "      <th>Humidity</th>\n",
       "      <td>8.045844e-38</td>\n",
       "      <td>0.000000e+00</td>\n",
       "      <td>6.396081e-04</td>\n",
       "      <td>0.000000e+00</td>\n",
       "      <td>0.000000e+00</td>\n",
       "      <td>1.256261e-01</td>\n",
       "      <td>8.957692e-23</td>\n",
       "    </tr>\n",
       "    <tr>\n",
       "      <th>Light</th>\n",
       "      <td>0.000000e+00</td>\n",
       "      <td>6.396081e-04</td>\n",
       "      <td>0.000000e+00</td>\n",
       "      <td>0.000000e+00</td>\n",
       "      <td>1.384224e-98</td>\n",
       "      <td>1.155777e-14</td>\n",
       "      <td>4.848841e-146</td>\n",
       "    </tr>\n",
       "    <tr>\n",
       "      <th>CO2</th>\n",
       "      <td>0.000000e+00</td>\n",
       "      <td>0.000000e+00</td>\n",
       "      <td>0.000000e+00</td>\n",
       "      <td>0.000000e+00</td>\n",
       "      <td>0.000000e+00</td>\n",
       "      <td>2.507120e-81</td>\n",
       "      <td>5.602596e-302</td>\n",
       "    </tr>\n",
       "    <tr>\n",
       "      <th>HumidityRatio</th>\n",
       "      <td>3.731142e-43</td>\n",
       "      <td>0.000000e+00</td>\n",
       "      <td>1.384224e-98</td>\n",
       "      <td>0.000000e+00</td>\n",
       "      <td>0.000000e+00</td>\n",
       "      <td>3.943321e-18</td>\n",
       "      <td>6.771405e-110</td>\n",
       "    </tr>\n",
       "    <tr>\n",
       "      <th>NSM</th>\n",
       "      <td>6.898404e-126</td>\n",
       "      <td>1.256261e-01</td>\n",
       "      <td>1.155777e-14</td>\n",
       "      <td>2.507120e-81</td>\n",
       "      <td>3.943321e-18</td>\n",
       "      <td>0.000000e+00</td>\n",
       "      <td>3.269109e-01</td>\n",
       "    </tr>\n",
       "    <tr>\n",
       "      <th>WS</th>\n",
       "      <td>0.000000e+00</td>\n",
       "      <td>8.957692e-23</td>\n",
       "      <td>4.848841e-146</td>\n",
       "      <td>5.602596e-302</td>\n",
       "      <td>6.771405e-110</td>\n",
       "      <td>3.269109e-01</td>\n",
       "      <td>0.000000e+00</td>\n",
       "    </tr>\n",
       "  </tbody>\n",
       "</table>\n",
       "</div>"
      ],
      "text/plain": [
       "                 Temperature      Humidity          Light            CO2  \\\n",
       "Temperature     0.000000e+00  8.045844e-38   0.000000e+00   0.000000e+00   \n",
       "Humidity        8.045844e-38  0.000000e+00   6.396081e-04   0.000000e+00   \n",
       "Light           0.000000e+00  6.396081e-04   0.000000e+00   0.000000e+00   \n",
       "CO2             0.000000e+00  0.000000e+00   0.000000e+00   0.000000e+00   \n",
       "HumidityRatio   3.731142e-43  0.000000e+00   1.384224e-98   0.000000e+00   \n",
       "NSM            6.898404e-126  1.256261e-01   1.155777e-14   2.507120e-81   \n",
       "WS              0.000000e+00  8.957692e-23  4.848841e-146  5.602596e-302   \n",
       "\n",
       "               HumidityRatio            NSM             WS  \n",
       "Temperature     3.731142e-43  6.898404e-126   0.000000e+00  \n",
       "Humidity        0.000000e+00   1.256261e-01   8.957692e-23  \n",
       "Light           1.384224e-98   1.155777e-14  4.848841e-146  \n",
       "CO2             0.000000e+00   2.507120e-81  5.602596e-302  \n",
       "HumidityRatio   0.000000e+00   3.943321e-18  6.771405e-110  \n",
       "NSM             3.943321e-18   0.000000e+00   3.269109e-01  \n",
       "WS             6.771405e-110   3.269109e-01   0.000000e+00  "
      ]
     },
     "execution_count": 106,
     "metadata": {},
     "output_type": "execute_result"
    }
   ],
   "source": [
    "df_train_pval = pd.DataFrame(corrcoef_loop(df1), columns = df1.columns, index = df1.columns)\n",
    "df_train_pval.head(7)"
   ]
  },
  {
   "cell_type": "code",
   "execution_count": 107,
   "metadata": {},
   "outputs": [],
   "source": [
    "feature_names = ['Temperature', 'Humidity', 'Light', 'CO2', 'HumidityRatio', 'NSM', 'WS']\n",
    "X_train = df_train[feature_names]\n",
    "y_train = df_train['Occupancy']\n",
    "X_test = df_test[feature_names]\n",
    "y_test = df_test['Occupancy']\n",
    "X_test1 = df_test1[feature_names]\n",
    "y_test1 = df_test1['Occupancy']"
   ]
  },
  {
   "cell_type": "code",
   "execution_count": 108,
   "metadata": {},
   "outputs": [
    {
     "name": "stdout",
     "output_type": "stream",
     "text": [
      "Accuracy of Logistic regression classifier on training set: 0.98\n",
      "Accuracy of Logistic regression classifier on test set: 0.98\n"
     ]
    }
   ],
   "source": [
    "logreg = LogisticRegression()\n",
    "logreg.fit(X_train, y_train)\n",
    "print('Accuracy of Logistic regression classifier on training set: {:.2f}'.format(logreg.score(X_train, y_train)))\n",
    "print('Accuracy of Logistic regression classifier on test set: {:.2f}'.format(logreg.score(X_test, y_test)))"
   ]
  },
  {
   "cell_type": "code",
   "execution_count": 109,
   "metadata": {},
   "outputs": [
    {
     "name": "stdout",
     "output_type": "stream",
     "text": [
      "Accuracy of GNB classifier on training set: 0.98\n",
      "Accuracy of GNB classifier on test set: 0.98\n"
     ]
    }
   ],
   "source": [
    "gnb = GaussianNB()\n",
    "gnb.fit(X_train, y_train)\n",
    "print('Accuracy of GNB classifier on training set: {:.2f}'.format(gnb.score(X_train, y_train)))\n",
    "print('Accuracy of GNB classifier on test set: {:.2f}'.format(gnb.score(X_test, y_test)))"
   ]
  },
  {
   "cell_type": "code",
   "execution_count": 110,
   "metadata": {},
   "outputs": [
    {
     "name": "stdout",
     "output_type": "stream",
     "text": [
      "Accuracy of SVM classifier on training set: 1.00\n",
      "Accuracy of SVM classifier on test set: 0.64\n"
     ]
    }
   ],
   "source": [
    "svm = SVC()\n",
    "svm.fit(X_train, y_train)\n",
    "print('Accuracy of SVM classifier on training set: {:.2f}'.format(svm.score(X_train, y_train)))\n",
    "print('Accuracy of SVM classifier on test set: {:.2f}'.format(svm.score(X_test, y_test)))"
   ]
  },
  {
   "cell_type": "code",
   "execution_count": 111,
   "metadata": {},
   "outputs": [
    {
     "data": {
      "text/html": [
       "<div>\n",
       "<style scoped>\n",
       "    .dataframe tbody tr th:only-of-type {\n",
       "        vertical-align: middle;\n",
       "    }\n",
       "\n",
       "    .dataframe tbody tr th {\n",
       "        vertical-align: top;\n",
       "    }\n",
       "\n",
       "    .dataframe thead th {\n",
       "        text-align: right;\n",
       "    }\n",
       "</style>\n",
       "<table border=\"1\" class=\"dataframe\">\n",
       "  <thead>\n",
       "    <tr style=\"text-align: right;\">\n",
       "      <th></th>\n",
       "      <th>Predicted 0</th>\n",
       "      <th>Predicted 1</th>\n",
       "    </tr>\n",
       "  </thead>\n",
       "  <tbody>\n",
       "    <tr>\n",
       "      <th>Actual 0</th>\n",
       "      <td>1693</td>\n",
       "      <td>0</td>\n",
       "    </tr>\n",
       "    <tr>\n",
       "      <th>Actual 1</th>\n",
       "      <td>971</td>\n",
       "      <td>1</td>\n",
       "    </tr>\n",
       "  </tbody>\n",
       "</table>\n",
       "</div>"
      ],
      "text/plain": [
       "          Predicted 0  Predicted 1\n",
       "Actual 0         1693            0\n",
       "Actual 1          971            1"
      ]
     },
     "execution_count": 111,
     "metadata": {},
     "output_type": "execute_result"
    }
   ],
   "source": [
    "pred = svm.predict(X_test)\n",
    "df_CM = pd.DataFrame(confusion_matrix(y_test, pred), columns = [\"Predicted 0\", \"Predicted 1\"], index = [\"Actual 0\", \"Actual 1\"])\n",
    "df_CM.head()"
   ]
  },
  {
   "cell_type": "code",
   "execution_count": 112,
   "metadata": {},
   "outputs": [],
   "source": [
    "class_names = np.array(['0', '1'])"
   ]
  },
  {
   "cell_type": "code",
   "execution_count": 129,
   "metadata": {},
   "outputs": [],
   "source": [
    "def plot_confusion_matrix(conf_mat, classes,\n",
    "                          normalize=False,\n",
    "                          title='Confusion matrix',\n",
    "                          cmap=plt.cm.Blues):\n",
    "    if normalize:\n",
    "        conf_mat = conf_mat.astype('float') / conf_mat.sum(axis=1)[:, np.newaxis]\n",
    "        print(\"Normalized confusion matrix\")\n",
    "    else:\n",
    "        print('Confusion matrix, without normalization')\n",
    "\n",
    "    print(conf_mat)\n",
    "\n",
    "    plt.imshow(conf_mat, interpolation='nearest', cmap=cmap)\n",
    "    plt.title(title)\n",
    "    plt.colorbar()\n",
    "    tick_marks = np.arange(len(classes))\n",
    "    plt.xticks(tick_marks, classes) # , rotation = 45)\n",
    "    plt.yticks(tick_marks, classes)\n",
    "    plt.grid(False)\n",
    "\n",
    "    fmt = '.2f' if normalize else 'd'\n",
    "    thresh = conf_mat.max() / 2.\n",
    "    for i, j in itertools.product(range(conf_mat.shape[0]), range(conf_mat.shape[1])):\n",
    "        plt.text(j, i, format(conf_mat[i, j], fmt),\n",
    "                 horizontalalignment=\"center\",\n",
    "                 color=\"white\" if conf_mat[i, j] > thresh else \"black\")\n",
    "\n",
    "    plt.tight_layout()\n",
    "    plt.ylabel('True label')\n",
    "    plt.xlabel('Predicted label')"
   ]
  },
  {
   "cell_type": "code",
   "execution_count": 131,
   "metadata": {},
   "outputs": [
    {
     "name": "stdout",
     "output_type": "stream",
     "text": [
      "Confusion matrix, without normalization\n",
      "[[1693    0]\n",
      " [ 971    1]]\n",
      "Normalized confusion matrix\n",
      "[[1. 0.]\n",
      " [1. 0.]]\n"
     ]
    },
    {
     "data": {
      "image/png": "[encoded data removed]",
      "text/plain": [
       "<matplotlib.figure.Figure at 0x7f722a2ed590>"
      ]
     },
     "metadata": {},
     "output_type": "display_data"
    },
    {
     "data": {
      "image/png": "[encoded data removed]",
      "text/plain": [
       "<matplotlib.figure.Figure at 0x7f721f1fcf50>"
      ]
     },
     "metadata": {},
     "output_type": "display_data"
    }
   ],
   "source": [
    "# Compute confusion matrix\n",
    "conf_mat = confusion_matrix(y_test, pred)\n",
    "np.set_printoptions(precision=2)\n",
    "\n",
    "# Plot non-normalized confusion matrix\n",
    "plt.figure()\n",
    "plot_confusion_matrix(conf_mat, classes=class_names,\n",
    "                      title='Confusion matrix, without normalization')\n",
    "\n",
    "# Plot normalized confusion matrix\n",
    "plt.figure()\n",
    "plot_confusion_matrix(conf_mat, classes=class_names, normalize=True,\n",
    "                      title='Normalized confusion matrix')\n",
    "\n",
    "plt.show()"
   ]
  },
  {
   "cell_type": "code",
   "execution_count": 31,
   "metadata": {},
   "outputs": [],
   "source": [
    "scores = []\n",
    "for val in range (1, 41):\n",
    "  clf = RandomForestClassifier(n_estimators = val)\n",
    "  validated = cross_val_score(clf, X_test1, y_test1, cv = 10)\n",
    "  scores.append(validated)"
   ]
  },
  {
   "cell_type": "code",
   "execution_count": null,
   "metadata": {},
   "outputs": [],
   "source": [
    "print(confusion_matrix(y_test, pred))\n",
    "print(classification_report(y_test, pred))"
   ]
  },
  {
   "cell_type": "code",
   "execution_count": null,
   "metadata": {},
   "outputs": [],
   "source": []
  }
 ],
 "metadata": {
  "kernelspec": {
   "display_name": "Python 2",
   "language": "python",
   "name": "python2"
  },
  "language_info": {
   "codemirror_mode": {
    "name": "ipython",
    "version": 2
   },
   "file_extension": ".py",
   "mimetype": "text/x-python",
   "name": "python",
   "nbconvert_exporter": "python",
   "pygments_lexer": "ipython2",
   "version": "2.7.15"
  }
 },
 "nbformat": 4,
 "nbformat_minor": 2
}
