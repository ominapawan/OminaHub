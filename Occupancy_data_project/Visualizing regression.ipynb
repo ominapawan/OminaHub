{
 "cells": [
  {
   "cell_type": "code",
   "execution_count": 125,
   "metadata": {},
   "outputs": [
    {
     "name": "stdout",
     "output_type": "stream",
     "text": [
      "Requirement already satisfied: gcsfs in /usr/local/envs/py2env/lib/python2.7/site-packages (0.1.2)\n",
      "Requirement already satisfied: requests in /usr/local/envs/py2env/lib/python2.7/site-packages (from gcsfs) (2.18.4)\n",
      "Requirement already satisfied: google-auth>=1.2 in /usr/local/envs/py2env/lib/python2.7/site-packages (from gcsfs) (1.5.1)\n",
      "Requirement already satisfied: decorator in /usr/local/envs/py2env/lib/python2.7/site-packages (from gcsfs) (4.3.0)\n",
      "Requirement already satisfied: google-auth-oauthlib in /usr/local/envs/py2env/lib/python2.7/site-packages (from gcsfs) (0.1.0)\n",
      "Requirement already satisfied: chardet<3.1.0,>=3.0.2 in /usr/local/envs/py2env/lib/python2.7/site-packages (from requests->gcsfs) (3.0.4)\n",
      "Requirement already satisfied: idna<2.7,>=2.5 in /usr/local/envs/py2env/lib/python2.7/site-packages (from requests->gcsfs) (2.6)\n",
      "Requirement already satisfied: urllib3<1.23,>=1.21.1 in /usr/local/envs/py2env/lib/python2.7/site-packages (from requests->gcsfs) (1.22)\n",
      "Requirement already satisfied: certifi>=2017.4.17 in /usr/local/envs/py2env/lib/python2.7/site-packages (from requests->gcsfs) (2018.8.13)\n",
      "Requirement already satisfied: pyasn1-modules>=0.2.1 in /usr/local/envs/py2env/lib/python2.7/site-packages (from google-auth>=1.2->gcsfs) (0.2.2)\n",
      "Requirement already satisfied: cachetools>=2.0.0 in /usr/local/envs/py2env/lib/python2.7/site-packages (from google-auth>=1.2->gcsfs) (2.1.0)\n",
      "Requirement already satisfied: six>=1.9.0 in /usr/local/envs/py2env/lib/python2.7/site-packages (from google-auth>=1.2->gcsfs) (1.10.0)\n",
      "Requirement already satisfied: rsa>=3.1.4 in /usr/local/envs/py2env/lib/python2.7/site-packages (from google-auth>=1.2->gcsfs) (3.4.2)\n",
      "Requirement already satisfied: requests-oauthlib>=0.7.0 in /usr/local/envs/py2env/lib/python2.7/site-packages (from google-auth-oauthlib->gcsfs) (0.8.0)\n",
      "Requirement already satisfied: pyasn1<0.5.0,>=0.4.1 in /usr/local/envs/py2env/lib/python2.7/site-packages (from pyasn1-modules>=0.2.1->google-auth>=1.2->gcsfs) (0.4.4)\n",
      "Requirement already satisfied: oauthlib>=0.6.2 in /usr/local/envs/py2env/lib/python2.7/site-packages (from requests-oauthlib>=0.7.0->google-auth-oauthlib->gcsfs) (2.1.0)\n"
     ]
    }
   ],
   "source": [
    "!pip install gcsfs"
   ]
  },
  {
   "cell_type": "code",
   "execution_count": 152,
   "metadata": {},
   "outputs": [],
   "source": [
    "import pandas as pd\n",
    "import gcsfs\n",
    "import matplotlib.pyplot as plt\n",
    "import seaborn as sns\n",
    "import numpy as np\n",
    "import scipy.stats as stats\n",
    "from sklearn import linear_model, datasets\n",
    "from sklearn.preprocessing import PolynomialFeatures\n",
    "import itertools\n",
    "import matplotlib as mpl\n",
    "import matplotlib.style\n",
    "mpl.style.use('seaborn-bright')\n",
    "%matplotlib inline"
   ]
  },
  {
   "cell_type": "code",
   "execution_count": 153,
   "metadata": {},
   "outputs": [],
   "source": [
    "fs = gcsfs.GCSFileSystem(project='omina-gcp-resource')\n",
    "with fs.open('omina-test-set/occupancy-data/occupancy_data.csv') as f:\n",
    "    df = pd.read_csv(f)"
   ]
  },
  {
   "cell_type": "code",
   "execution_count": 154,
   "metadata": {},
   "outputs": [],
   "source": [
    "df['date'] = pd.to_datetime(df['date'])\n",
    "df.index = df['date']\n",
    "del df['Unnamed: 0']"
   ]
  },
  {
   "cell_type": "code",
   "execution_count": 155,
   "metadata": {},
   "outputs": [],
   "source": [
    "df = df.sort_values(by='date')"
   ]
  },
  {
   "cell_type": "code",
   "execution_count": 156,
   "metadata": {},
   "outputs": [
    {
     "data": {
      "text/html": [
       "<div>\n",
       "<style scoped>\n",
       "    .dataframe tbody tr th:only-of-type {\n",
       "        vertical-align: middle;\n",
       "    }\n",
       "\n",
       "    .dataframe tbody tr th {\n",
       "        vertical-align: top;\n",
       "    }\n",
       "\n",
       "    .dataframe thead th {\n",
       "        text-align: right;\n",
       "    }\n",
       "</style>\n",
       "<table border=\"1\" class=\"dataframe\">\n",
       "  <thead>\n",
       "    <tr style=\"text-align: right;\">\n",
       "      <th></th>\n",
       "      <th>Temperature</th>\n",
       "      <th>Humidity</th>\n",
       "      <th>Light</th>\n",
       "      <th>CO2</th>\n",
       "      <th>HumidityRatio</th>\n",
       "      <th>Occupancy</th>\n",
       "      <th>NSM</th>\n",
       "      <th>WS</th>\n",
       "    </tr>\n",
       "    <tr>\n",
       "      <th>date</th>\n",
       "      <th></th>\n",
       "      <th></th>\n",
       "      <th></th>\n",
       "      <th></th>\n",
       "      <th></th>\n",
       "      <th></th>\n",
       "      <th></th>\n",
       "      <th></th>\n",
       "    </tr>\n",
       "  </thead>\n",
       "  <tbody>\n",
       "    <tr>\n",
       "      <th>2015-02-02 14:19:00</th>\n",
       "      <td>23.7000</td>\n",
       "      <td>26.272</td>\n",
       "      <td>585.200000</td>\n",
       "      <td>749.200000</td>\n",
       "      <td>0.004764</td>\n",
       "      <td>1</td>\n",
       "      <td>51540.0</td>\n",
       "      <td>1</td>\n",
       "    </tr>\n",
       "    <tr>\n",
       "      <th>2015-02-02 14:19:59</th>\n",
       "      <td>23.7180</td>\n",
       "      <td>26.290</td>\n",
       "      <td>578.400000</td>\n",
       "      <td>760.400000</td>\n",
       "      <td>0.004773</td>\n",
       "      <td>1</td>\n",
       "      <td>51599.0</td>\n",
       "      <td>1</td>\n",
       "    </tr>\n",
       "    <tr>\n",
       "      <th>2015-02-02 14:21:00</th>\n",
       "      <td>23.7300</td>\n",
       "      <td>26.230</td>\n",
       "      <td>572.666667</td>\n",
       "      <td>769.666667</td>\n",
       "      <td>0.004765</td>\n",
       "      <td>1</td>\n",
       "      <td>51660.0</td>\n",
       "      <td>1</td>\n",
       "    </tr>\n",
       "    <tr>\n",
       "      <th>2015-02-02 14:22:00</th>\n",
       "      <td>23.7225</td>\n",
       "      <td>26.125</td>\n",
       "      <td>493.750000</td>\n",
       "      <td>774.750000</td>\n",
       "      <td>0.004744</td>\n",
       "      <td>1</td>\n",
       "      <td>51720.0</td>\n",
       "      <td>1</td>\n",
       "    </tr>\n",
       "    <tr>\n",
       "      <th>2015-02-02 14:23:00</th>\n",
       "      <td>23.7540</td>\n",
       "      <td>26.200</td>\n",
       "      <td>488.600000</td>\n",
       "      <td>779.000000</td>\n",
       "      <td>0.004767</td>\n",
       "      <td>1</td>\n",
       "      <td>51780.0</td>\n",
       "      <td>1</td>\n",
       "    </tr>\n",
       "  </tbody>\n",
       "</table>\n",
       "</div>"
      ],
      "text/plain": [
       "                     Temperature  Humidity       Light         CO2  \\\n",
       "date                                                                 \n",
       "2015-02-02 14:19:00      23.7000    26.272  585.200000  749.200000   \n",
       "2015-02-02 14:19:59      23.7180    26.290  578.400000  760.400000   \n",
       "2015-02-02 14:21:00      23.7300    26.230  572.666667  769.666667   \n",
       "2015-02-02 14:22:00      23.7225    26.125  493.750000  774.750000   \n",
       "2015-02-02 14:23:00      23.7540    26.200  488.600000  779.000000   \n",
       "\n",
       "                     HumidityRatio  Occupancy      NSM  WS  \n",
       "date                                                        \n",
       "2015-02-02 14:19:00       0.004764          1  51540.0   1  \n",
       "2015-02-02 14:19:59       0.004773          1  51599.0   1  \n",
       "2015-02-02 14:21:00       0.004765          1  51660.0   1  \n",
       "2015-02-02 14:22:00       0.004744          1  51720.0   1  \n",
       "2015-02-02 14:23:00       0.004767          1  51780.0   1  "
      ]
     },
     "execution_count": 156,
     "metadata": {},
     "output_type": "execute_result"
    }
   ],
   "source": [
    "df_group = df.groupby(pd.Grouper(key = 'date', freq = 'D'))\n",
    "df['NSM'] = df.date.apply(lambda x: x - x.replace(hour=0, minute=0, second=0)).dt.total_seconds()\n",
    "df['WS'] = ((pd.DatetimeIndex(df.index).dayofweek) < 5).astype(int)\n",
    "df = df[df['WS'] == 1]\n",
    "del df['date']\n",
    "df.head()"
   ]
  },
  {
   "cell_type": "code",
   "execution_count": 157,
   "metadata": {},
   "outputs": [
    {
     "data": {
      "text/html": [
       "<div>\n",
       "<style scoped>\n",
       "    .dataframe tbody tr th:only-of-type {\n",
       "        vertical-align: middle;\n",
       "    }\n",
       "\n",
       "    .dataframe tbody tr th {\n",
       "        vertical-align: top;\n",
       "    }\n",
       "\n",
       "    .dataframe thead th {\n",
       "        text-align: right;\n",
       "    }\n",
       "</style>\n",
       "<table border=\"1\" class=\"dataframe\">\n",
       "  <thead>\n",
       "    <tr style=\"text-align: right;\">\n",
       "      <th></th>\n",
       "      <th></th>\n",
       "      <th>Temperature</th>\n",
       "      <th>Humidity</th>\n",
       "      <th>Light</th>\n",
       "      <th>CO2</th>\n",
       "      <th>HumidityRatio</th>\n",
       "      <th>Occupancy</th>\n",
       "      <th>NSM</th>\n",
       "      <th>WS</th>\n",
       "    </tr>\n",
       "    <tr>\n",
       "      <th>day</th>\n",
       "      <th>hour</th>\n",
       "      <th></th>\n",
       "      <th></th>\n",
       "      <th></th>\n",
       "      <th></th>\n",
       "      <th></th>\n",
       "      <th></th>\n",
       "      <th></th>\n",
       "      <th></th>\n",
       "    </tr>\n",
       "  </thead>\n",
       "  <tbody>\n",
       "    <tr>\n",
       "      <th rowspan=\"5\" valign=\"top\">2</th>\n",
       "      <th>14</th>\n",
       "      <td>23.657118</td>\n",
       "      <td>27.023720</td>\n",
       "      <td>499.978107</td>\n",
       "      <td>898.784843</td>\n",
       "      <td>0.004889</td>\n",
       "      <td>1.000000</td>\n",
       "      <td>52739.658537</td>\n",
       "      <td>1.0</td>\n",
       "    </tr>\n",
       "    <tr>\n",
       "      <th>15</th>\n",
       "      <td>23.293950</td>\n",
       "      <td>28.412430</td>\n",
       "      <td>456.719048</td>\n",
       "      <td>1103.186310</td>\n",
       "      <td>0.005030</td>\n",
       "      <td>1.000000</td>\n",
       "      <td>55769.700000</td>\n",
       "      <td>1.0</td>\n",
       "    </tr>\n",
       "    <tr>\n",
       "      <th>16</th>\n",
       "      <td>22.773142</td>\n",
       "      <td>26.737452</td>\n",
       "      <td>434.838993</td>\n",
       "      <td>979.566003</td>\n",
       "      <td>0.004585</td>\n",
       "      <td>1.000000</td>\n",
       "      <td>59399.688525</td>\n",
       "      <td>1.0</td>\n",
       "    </tr>\n",
       "    <tr>\n",
       "      <th>17</th>\n",
       "      <td>22.534520</td>\n",
       "      <td>24.972128</td>\n",
       "      <td>426.736158</td>\n",
       "      <td>822.562853</td>\n",
       "      <td>0.004217</td>\n",
       "      <td>0.610169</td>\n",
       "      <td>62999.677966</td>\n",
       "      <td>1.0</td>\n",
       "    </tr>\n",
       "    <tr>\n",
       "      <th>18</th>\n",
       "      <td>21.993372</td>\n",
       "      <td>24.595967</td>\n",
       "      <td>32.984167</td>\n",
       "      <td>720.400278</td>\n",
       "      <td>0.004018</td>\n",
       "      <td>0.083333</td>\n",
       "      <td>66569.700000</td>\n",
       "      <td>1.0</td>\n",
       "    </tr>\n",
       "  </tbody>\n",
       "</table>\n",
       "</div>"
      ],
      "text/plain": [
       "          Temperature   Humidity       Light          CO2  HumidityRatio  \\\n",
       "day hour                                                                   \n",
       "2   14      23.657118  27.023720  499.978107   898.784843       0.004889   \n",
       "    15      23.293950  28.412430  456.719048  1103.186310       0.005030   \n",
       "    16      22.773142  26.737452  434.838993   979.566003       0.004585   \n",
       "    17      22.534520  24.972128  426.736158   822.562853       0.004217   \n",
       "    18      21.993372  24.595967   32.984167   720.400278       0.004018   \n",
       "\n",
       "          Occupancy           NSM   WS  \n",
       "day hour                                \n",
       "2   14     1.000000  52739.658537  1.0  \n",
       "    15     1.000000  55769.700000  1.0  \n",
       "    16     1.000000  59399.688525  1.0  \n",
       "    17     0.610169  62999.677966  1.0  \n",
       "    18     0.083333  66569.700000  1.0  "
      ]
     },
     "execution_count": 157,
     "metadata": {},
     "output_type": "execute_result"
    }
   ],
   "source": [
    "df['day'] = df.index.day\n",
    "df['hour'] = df.index.hour\n",
    "df = df.reset_index().groupby(['day', 'hour']).mean()\n",
    "df.head()"
   ]
  },
  {
   "cell_type": "code",
   "execution_count": 158,
   "metadata": {},
   "outputs": [],
   "source": [
    "df = df[(df['CO2'] > 750) & (df['Humidity'] > 25)]\n",
    "df = df[~((df['CO2'] > 1200) & (df['Humidity'] < 28))]\n",
    "features = ['Humidity', 'CO2']\n",
    "df_train = df[features]"
   ]
  },
  {
   "cell_type": "code",
   "execution_count": 159,
   "metadata": {},
   "outputs": [],
   "source": [
    "X = df['Humidity'].as_matrix()\n",
    "y = df['CO2'].as_matrix()\n",
    "X = X.reshape(-1, 1)\n",
    "y = y.reshape(-1, 1)"
   ]
  },
  {
   "cell_type": "code",
   "execution_count": 147,
   "metadata": {},
   "outputs": [
    {
     "data": {
      "image/png": "[encoded data removed]",
      "text/plain": [
       "<matplotlib.figure.Figure at 0x7fd774a6cc10>"
      ]
     },
     "metadata": {},
     "output_type": "display_data"
    }
   ],
   "source": [
    "sns.set(style=\"white\")\n",
    "sns.set(color_codes=True)\n",
    "sns.set_palette(\"bright\", 2)\n",
    "g = sns.pairplot(df_train,\n",
    "                 size = 4,\n",
    "                 plot_kws={\"s\": 8, 'alpha': 1},\n",
    "                 vars=[\"Humidity\", \"CO2\"])"
   ]
  },
  {
   "cell_type": "code",
   "execution_count": 160,
   "metadata": {},
   "outputs": [
    {
     "name": "stdout",
     "output_type": "stream",
     "text": [
      "Copying file://test_reg.svg [Content-Type=image/svg+xml]...\n",
      "/ [1 files][ 30.1 KiB/ 30.1 KiB]                                                \n",
      "Operation completed over 1 objects/30.1 KiB.                                     \n"
     ]
    },
    {
     "data": {
      "image/png": "[encoded data removed]",
      "text/plain": [
       "<matplotlib.figure.Figure at 0x7fd76b1e5350>"
      ]
     },
     "metadata": {},
     "output_type": "display_data"
    }
   ],
   "source": [
    "# Create linear regression object\n",
    "regr = linear_model.LinearRegression()\n",
    "\n",
    "# Train the model using the training sets\n",
    "regr.fit(X, y)\n",
    "\n",
    "# Make predictions using the testing set\n",
    "df_y_pred = regr.predict(X)\n",
    "\n",
    "# Plot outputs\n",
    "plt.scatter(X, y,  color='blue')\n",
    "plt.plot(X, df_y_pred, color='green', linewidth=3)\n",
    "\n",
    "plt.xlabel('Humidity')\n",
    "plt.ylabel('CO2')\n",
    "plt.savefig(\"test_reg.svg\", format=\"svg\")\n",
    "!gsutil cp 'test_reg.svg' 'gs://omina-test-set/occupancy-data/fig_reg.svg'\n"
   ]
  },
  {
   "cell_type": "code",
   "execution_count": 161,
   "metadata": {},
   "outputs": [
    {
     "name": "stdout",
     "output_type": "stream",
     "text": [
      "Copying file://test_pol_reg.svg [Content-Type=image/svg+xml]...\n",
      "/ [1 files][ 30.1 KiB/ 30.1 KiB]                                                \n",
      "Operation completed over 1 objects/30.1 KiB.                                     \n"
     ]
    },
    {
     "data": {
      "image/png": "[encoded data removed]",
      "text/plain": [
       "<matplotlib.figure.Figure at 0x7fd773f895d0>"
      ]
     },
     "metadata": {},
     "output_type": "display_data"
    }
   ],
   "source": [
    "# create a Linear Regressor \n",
    "X_test = np.unique(abs(X))\n",
    "X_test = X_test.reshape(-1, 1)\n",
    "regr = linear_model.LinearRegression()\n",
    "\n",
    "# pass the order of your polynomial here  \n",
    "poly = PolynomialFeatures(5)\n",
    "\n",
    "# convert to be used further to linear regression\n",
    "X_transform = poly.fit_transform(X)\n",
    "X_transform_test = poly.fit_transform(X_test)\n",
    "\n",
    "# fit this to Linear Regressor\n",
    "regr.fit(X_transform,y) \n",
    "\n",
    "# get the predictions\n",
    "y_preds = regr.predict(X_transform_test)\n",
    "\n",
    "# Plot outputs\n",
    "plt.scatter(X, y,  color='blue')\n",
    "plt.plot(X_test, y_preds, color='green', linewidth=3)\n",
    "\n",
    "plt.xlabel('Humidity')\n",
    "plt.ylabel('CO2')\n",
    "\n",
    "plt.savefig(\"test_pol_reg.svg\", format=\"svg\")\n",
    "!gsutil cp 'test_pol_reg.svg' 'gs://omina-test-set/occupancy-data/fig_pol_reg.svg'"
   ]
  },
  {
   "cell_type": "code",
   "execution_count": 151,
   "metadata": {},
   "outputs": [],
   "source": [
    "plt.rcParams.update(plt.rcParamsDefault)"
   ]
  },
  {
   "cell_type": "code",
   "execution_count": null,
   "metadata": {},
   "outputs": [],
   "source": []
  }
 ],
 "metadata": {
  "kernelspec": {
   "display_name": "Python 2",
   "language": "python",
   "name": "python2"
  },
  "language_info": {
   "codemirror_mode": {
    "name": "ipython",
    "version": 2
   },
   "file_extension": ".py",
   "mimetype": "text/x-python",
   "name": "python",
   "nbconvert_exporter": "python",
   "pygments_lexer": "ipython2",
   "version": "2.7.15"
  }
 },
 "nbformat": 4,
 "nbformat_minor": 2
}
